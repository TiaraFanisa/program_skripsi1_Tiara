{
 "cells": [
  {
   "cell_type": "code",
   "execution_count": 36,
   "id": "nonprofit-package",
   "metadata": {},
   "outputs": [],
   "source": [
    "import nltk\n",
    "import pandas as pd\n",
    "from nltk.tokenize import word_tokenize\n",
    "from nltk.corpus import stopwords\n",
    "from nltk.stem import PorterStemmer\n",
    "from sklearn.feature_extraction.text import CountVectorizer\n",
    "from sklearn.naive_bayes import MultinomialNB\n",
    "from sklearn.model_selection import train_test_split\n",
    "from sklearn.metrics import accuracy_score"
   ]
  },
  {
   "cell_type": "code",
   "execution_count": 37,
   "id": "committed-worst",
   "metadata": {},
   "outputs": [
    {
     "name": "stderr",
     "output_type": "stream",
     "text": [
      "[nltk_data] Downloading package punkt to\n",
      "[nltk_data]     C:\\Users\\acer\\AppData\\Roaming\\nltk_data...\n",
      "[nltk_data]   Package punkt is already up-to-date!\n",
      "[nltk_data] Downloading package stopwords to\n",
      "[nltk_data]     C:\\Users\\acer\\AppData\\Roaming\\nltk_data...\n",
      "[nltk_data]   Package stopwords is already up-to-date!\n"
     ]
    },
    {
     "data": {
      "text/plain": [
       "True"
      ]
     },
     "execution_count": 37,
     "metadata": {},
     "output_type": "execute_result"
    }
   ],
   "source": [
    "# Download data nltk jika belum tersedia\n",
    "nltk.download(\"punkt\")\n",
    "nltk.download(\"stopwords\")"
   ]
  },
  {
   "cell_type": "code",
   "execution_count": 38,
   "id": "worth-tsunami",
   "metadata": {},
   "outputs": [],
   "source": [
    "# Baca data dari file Excel (pastikan file Excel memiliki kolom \"text\" dan \"label\")\n",
    "file_path = \"file_perhitungan_naivebayes.xlsx\"\n",
    "data = pd.read_excel(file_path)"
   ]
  },
  {
   "cell_type": "code",
   "execution_count": 39,
   "id": "respiratory-fountain",
   "metadata": {},
   "outputs": [],
   "source": [
    "# Hentikan kata-kata umum (stop words)\n",
    "stop_words = set(stopwords.words(\"indonesian\"))"
   ]
  },
  {
   "cell_type": "code",
   "execution_count": 40,
   "id": "architectural-segment",
   "metadata": {},
   "outputs": [],
   "source": [
    "# Stemming kata-kata\n",
    "ps = PorterStemmer()"
   ]
  },
  {
   "cell_type": "code",
   "execution_count": 41,
   "id": "spectacular-technology",
   "metadata": {},
   "outputs": [],
   "source": [
    "# Fungsi preprocessing\n",
    "def preprocess(text):\n",
    "    words = word_tokenize(text)\n",
    "    words = [ps.stem(word.lower()) for word in words if word.isalnum()]\n",
    "    words = [word for word in words if word not in stop_words]\n",
    "    return \" \".join(words)"
   ]
  },
  {
   "cell_type": "code",
   "execution_count": 42,
   "id": "arbitrary-zoning",
   "metadata": {},
   "outputs": [],
   "source": [
    "# Preprocessing semua dokumen\n",
    "data[\"preprocessed_text\"] = data[\"teks\"].apply(preprocess)"
   ]
  },
  {
   "cell_type": "code",
   "execution_count": 43,
   "id": "considerable-friday",
   "metadata": {},
   "outputs": [],
   "source": [
    "# Pisahkan data menjadi data latih dan data uji\n",
    "train_set, test_set = train_test_split(data, test_size=0.3, random_state=42)"
   ]
  },
  {
   "cell_type": "code",
   "execution_count": 44,
   "id": "exact-capacity",
   "metadata": {},
   "outputs": [],
   "source": [
    "# Ekstraksi fitur dengan CountVectorizer\n",
    "vectorizer = CountVectorizer()\n",
    "X_train = vectorizer.fit_transform(train_set[\"preprocessed_text\"])\n",
    "y_train = train_set[\"label\"]"
   ]
  },
  {
   "cell_type": "code",
   "execution_count": 45,
   "id": "objective-joining",
   "metadata": {},
   "outputs": [],
   "source": [
    "X_test = vectorizer.transform(test_set[\"preprocessed_text\"])\n",
    "y_test = test_set[\"label\"]"
   ]
  },
  {
   "cell_type": "code",
   "execution_count": 46,
   "id": "unauthorized-egyptian",
   "metadata": {},
   "outputs": [
    {
     "data": {
      "text/plain": [
       "MultinomialNB()"
      ]
     },
     "execution_count": 46,
     "metadata": {},
     "output_type": "execute_result"
    }
   ],
   "source": [
    "# Buat model Naive Bayes\n",
    "model = MultinomialNB()\n",
    "model.fit(X_train, y_train)"
   ]
  },
  {
   "cell_type": "code",
   "execution_count": 47,
   "id": "indian-turtle",
   "metadata": {},
   "outputs": [],
   "source": [
    "# Lakukan prediksi\n",
    "y_pred = model.predict(X_test)"
   ]
  },
  {
   "cell_type": "code",
   "execution_count": 48,
   "id": "limiting-massachusetts",
   "metadata": {},
   "outputs": [
    {
     "name": "stdout",
     "output_type": "stream",
     "text": [
      "Accuracy: 0.70\n"
     ]
    }
   ],
   "source": [
    "# Evaluasi akurasi\n",
    "accuracy = accuracy_score(y_test, y_pred)\n",
    "print(f\"Accuracy: {accuracy:.2f}\")"
   ]
  },
  {
   "cell_type": "code",
   "execution_count": 49,
   "id": "distant-cannon",
   "metadata": {},
   "outputs": [
    {
     "name": "stdout",
     "output_type": "stream",
     "text": [
      "Akurasi: 0.7021276595744681\n",
      "Presisi: 0.7021276595744681\n",
      "Recall: 1.0\n",
      "F1-score: 0.825\n"
     ]
    }
   ],
   "source": [
    "from sklearn.metrics import accuracy_score, precision_score, recall_score, f1_score\n",
    "\n",
    "# Menghitung akurasi\n",
    "accuracy = accuracy_score(y_test, y_pred)\n",
    "print(\"Akurasi:\", accuracy)\n",
    "\n",
    "# Menghitung presisi\n",
    "precision = precision_score(y_test, y_pred)\n",
    "print(\"Presisi:\", precision)\n",
    "\n",
    "# Menghitung recall\n",
    "recall = recall_score(y_test, y_pred)\n",
    "print(\"Recall:\", recall)\n",
    "\n",
    "# Menghitung F1-score\n",
    "f1 = f1_score(y_test, y_pred)\n",
    "print(\"F1-score:\", f1)"
   ]
  },
  {
   "cell_type": "code",
   "execution_count": 50,
   "id": "logical-nowhere",
   "metadata": {},
   "outputs": [],
   "source": [
    "# PIE CHART\n",
    "\n",
    "import pandas as pd\n",
    "import matplotlib.pyplot as plt\n",
    "from collections import Counter"
   ]
  },
  {
   "cell_type": "code",
   "execution_count": 51,
   "id": "meaning-activation",
   "metadata": {},
   "outputs": [],
   "source": [
    "# Membaca data dari file Excel\n",
    "file_path = 'file_perhitungan_naivebayes.xlsx'\n",
    "data = pd.read_excel(file_path)"
   ]
  },
  {
   "cell_type": "code",
   "execution_count": 52,
   "id": "junior-romantic",
   "metadata": {},
   "outputs": [
    {
     "name": "stdout",
     "output_type": "stream",
     "text": [
      "                                                  teks  label\n",
      "0    ['tuh', 'ken', 'vtuber', 'kaya', 'orang', 'spi...      1\n",
      "1    ['ngurusin', 'yg', 'gak', 'mending', 'nonton',...      1\n",
      "2    ['kalo', 'udah', 'familiar', 'ama', 'konsep', ...      1\n",
      "3                                      ['good', 'uwu']      1\n",
      "4    ['vtuber', 'ro', 'chillart', 'original', 'ygcyk']      1\n",
      "..                                                 ...    ...\n",
      "151  ['sahur', 'review', 'pt', 'mikoyan', 'mig', 'f...     -1\n",
      "152  ['ooooo', 'buka', 'youtube', 'lancar', 'gabisa...     -1\n",
      "153  ['pilih', 'jurus', 'ya', 'duh', 'bjir', 'anak'...     -1\n",
      "154  ['keren', 'sih', 'pas', 'nonton', 'mvnya', 'ko...     -1\n",
      "155  ['halo', 'malam', 'lanjut', 'game', 'space', '...     -1\n",
      "\n",
      "[156 rows x 2 columns]\n"
     ]
    }
   ],
   "source": [
    "# Menampilkan data yang telah dibaca\n",
    "print(data)"
   ]
  },
  {
   "cell_type": "code",
   "execution_count": 53,
   "id": "premier-investigator",
   "metadata": {},
   "outputs": [],
   "source": [
    "# Menghitung jumlah data positif dan negatif\n",
    "label_counts = data['label'].value_counts()"
   ]
  },
  {
   "cell_type": "code",
   "execution_count": 54,
   "id": "pleased-norman",
   "metadata": {},
   "outputs": [],
   "source": [
    "# Memisahkan label dan jumlahnya\n",
    "labels = label_counts.index\n",
    "sizes = label_counts.values"
   ]
  },
  {
   "cell_type": "code",
   "execution_count": 55,
   "id": "nervous-artwork",
   "metadata": {},
   "outputs": [
    {
     "data": {
      "image/png": "[encoded data removed]",
      "text/plain": [
       "<Figure size 432x288 with 1 Axes>"
      ]
     },
     "metadata": {},
     "output_type": "display_data"
    }
   ],
   "source": [
    "# Membuat pie chart\n",
    "plt.pie(sizes, labels=labels, autopct='%1.1f%%', startangle=140)\n",
    "plt.axis('equal')  # Membuat lingkaran (pie chart) menjadi bentuk lingkaran (equal aspect ratio)\n",
    "\n",
    "# Menampilkan pie chart\n",
    "plt.show()"
   ]
  },
  {
   "cell_type": "code",
   "execution_count": null,
   "id": "endangered-exhaust",
   "metadata": {},
   "outputs": [],
   "source": []
  }
 ],
 "metadata": {
  "kernelspec": {
   "display_name": "Python 3",
   "language": "python",
   "name": "python3"
  },
  "language_info": {
   "codemirror_mode": {
    "name": "ipython",
    "version": 3
   },
   "file_extension": ".py",
   "mimetype": "text/x-python",
   "name": "python",
   "nbconvert_exporter": "python",
   "pygments_lexer": "ipython3",
   "version": "3.8.8"
  }
 },
 "nbformat": 4,
 "nbformat_minor": 5
}
